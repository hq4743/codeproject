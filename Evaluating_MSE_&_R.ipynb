{
  "nbformat": 4,
  "nbformat_minor": 0,
  "metadata": {
    "colab": {
      "provenance": []
    },
    "kernelspec": {
      "name": "python3",
      "display_name": "Python 3"
    },
    "language_info": {
      "name": "python"
    }
  },
  "cells": [
    {
      "cell_type": "code",
      "source": [
        "import pandas as pd\n",
        "url = 'https://storage.googleapis.com/mbcc/datasets/us_chronic_disease_indicators.csv'\n",
        "df = pd.read_csv(url)"
      ],
      "metadata": {
        "id": "iIhTGnUALDb-"
      },
      "execution_count": null,
      "outputs": []
    },
    {
      "cell_type": "markdown",
      "source": [
        "Calculating MSE and R-squared for decision tree"
      ],
      "metadata": {
        "id": "vsaemv1NUdJ8"
      }
    },
    {
      "cell_type": "code",
      "source": [
        "import pandas as pd\n",
        "from sklearn.model_selection import train_test_split\n",
        "from sklearn.tree import DecisionTreeRegressor\n",
        "from sklearn.metrics import mean_squared_error, r2_score\n",
        "\n",
        "# Load the dataset\n",
        "#url = 'https://storage.googleapis.com/mbcc/datasets/us_chronic_disease_indicators.csv'\n",
        "#df = pd.read_csv(url)\n",
        "\n",
        "# Filter the dataset for the specific topic \"Cancer\"\n",
        "df_cancer = df[df['topic'] == 'Cancer']\n",
        "\n",
        "# Select relevant columns\n",
        "selected_columns = ['locationdesc', 'datavalue', 'stratification1', 'datavalue']\n",
        "\n",
        "df_cancer = df_cancer[selected_columns].dropna()  # Drop rows with missing values\n",
        "\n",
        "# Convert categorical variables to numerical\n",
        "df_cancer = pd.get_dummies(df_cancer, columns=['locationdesc', 'stratification1'])\n",
        "\n",
        "# Separate features (X) and target variable (y)\n",
        "X = df_cancer.drop('datavalue', axis=1)\n",
        "y = df_cancer['datavalue']\n",
        "\n",
        "# Split the data into training and testing sets\n",
        "X_train, X_test, y_train, y_test = train_test_split(X, y, test_size=0.2, random_state=42)\n",
        "\n",
        "# Build the decision tree regression model\n",
        "dt_model = DecisionTreeRegressor(random_state=42)\n",
        "\n",
        "# Train the model\n",
        "dt_model.fit(X_train, y_train)\n",
        "\n",
        "# Make predictions on the test set\n",
        "y_pred = dt_model.predict(X_test)\n",
        "\n",
        "# Evaluate the model\n",
        "mse = mean_squared_error(y_test, y_pred)\n",
        "r_squared = r2_score(y_test, y_pred)\n",
        "\n",
        "print(f'Mean Squared Error: {mse:.2f}')\n",
        "print(f'R-squared: {r_squared:.2f}')\n"
      ],
      "metadata": {
        "colab": {
          "base_uri": "https://localhost:8080/"
        },
        "id": "aGVJQAtIShCA",
        "outputId": "0229fd32-71d8-4877-b43a-cc8eb2d4d774"
      },
      "execution_count": null,
      "outputs": [
        {
          "output_type": "stream",
          "name": "stdout",
          "text": [
            "Mean Squared Error: 389752299.06\n",
            "R-squared: 0.06\n"
          ]
        }
      ]
    },
    {
      "cell_type": "code",
      "source": [
        "import pandas as pd\n",
        "from sklearn.model_selection import train_test_split\n",
        "from sklearn.ensemble import RandomForestRegressor\n",
        "from sklearn.metrics import mean_squared_error, r2_score\n",
        "\n",
        "# Load the dataset\n",
        "#url = 'https://storage.googleapis.com/mbcc/datasets/us_chronic_disease_indicators.csv'\n",
        "#df = pd.read_csv(url)\n",
        "\n",
        "# Filter the dataset for the specific topic \"Cancer\"\n",
        "df_cancer = df[df['topic'] == 'Cancer']\n",
        "\n",
        "# Select relevant columns\n",
        "selected_columns = ['locationdesc', 'datavalue', 'stratification1', 'datavalue']\n",
        "\n",
        "df_cancer = df_cancer[selected_columns].dropna()  # Drop rows with missing values\n",
        "\n",
        "# Convert categorical variables to numerical\n",
        "df_cancer = pd.get_dummies(df_cancer, columns=['locationdesc', 'stratification1'])\n",
        "\n",
        "# Separate features (X) and target variable (y)\n",
        "X = df_cancer.drop('datavalue', axis=1)\n",
        "y = df_cancer['datavalue']\n",
        "\n",
        "# Split the data into training and testing sets\n",
        "X_train, X_test, y_train, y_test = train_test_split(X, y, test_size=0.2, random_state=42)\n",
        "\n",
        "# Build the random forest regression model\n",
        "rf_model = RandomForestRegressor(random_state=42)\n",
        "\n",
        "# Train the model\n",
        "rf_model.fit(X_train, y_train)\n",
        "\n",
        "# Make predictions on the test set\n",
        "y_pred = rf_model.predict(X_test)\n",
        "\n",
        "# Evaluate the model\n",
        "mse = mean_squared_error(y_test, y_pred)\n",
        "r_squared = r2_score(y_test, y_pred)\n",
        "\n",
        "print(f'Mean Squared Error: {mse:.2f}')\n",
        "print(f'R-squared: {r_squared:.2f}')\n"
      ],
      "metadata": {
        "colab": {
          "base_uri": "https://localhost:8080/"
        },
        "id": "9k37dADeF1WW",
        "outputId": "f0d824db-a882-4596-9ca4-42827112a22d"
      },
      "execution_count": null,
      "outputs": [
        {
          "output_type": "stream",
          "name": "stdout",
          "text": [
            "Mean Squared Error: 390185504.96\n",
            "R-squared: 0.06\n"
          ]
        }
      ]
    },
    {
      "cell_type": "code",
      "source": [
        "import pandas as pd\n",
        "from sklearn.model_selection import train_test_split\n",
        "from sklearn.ensemble import RandomForestRegressor\n",
        "from sklearn.metrics import mean_squared_error, r2_score\n",
        "\n",
        "# Load the dataset\n",
        "#url = 'https://storage.googleapis.com/mbcc/datasets/us_chronic_disease_indicators.csv'\n",
        "#df = pd.read_csv(url)\n",
        "\n",
        "# Filter the dataset for the specific topic \"Cancer\"\n",
        "df_cancer = df[df['topic'] == 'Cancer']\n",
        "\n",
        "# Select relevant columns\n",
        "selected_columns = ['locationdesc', 'datavalue', 'stratification1']\n",
        "\n",
        "df_cancer = df_cancer[selected_columns].dropna()  # Drop rows with missing values\n",
        "\n",
        "# Check the number of unique values in the target variable\n",
        "unique_values_count = df_cancer['datavalue'].nunique()\n",
        "\n",
        "if unique_values_count < 2:\n",
        "    raise ValueError(\"Not enough distinct classes in the target variable. Choose a different target variable or address the imbalance.\")\n",
        "\n",
        "# Convert categorical variables to numerical\n",
        "df_cancer = pd.get_dummies(df_cancer, columns=['locationdesc', 'stratification1'])\n",
        "\n",
        "# Separate features (X) and target variable (y)\n",
        "X = df_cancer.drop('datavalue', axis=1)\n",
        "y = df_cancer['datavalue']\n",
        "\n",
        "# Split the data into training and testing sets\n",
        "X_train, X_test, y_train, y_test = train_test_split(X, y, test_size=0.2, random_state=42)\n",
        "\n",
        "# Build the random forest regression model\n",
        "rf_model = RandomForestRegressor(random_state=42)\n",
        "\n",
        "# Train the model\n",
        "rf_model.fit(X_train, y_train)\n",
        "\n",
        "# Make predictions on the test set\n",
        "y_pred = rf_model.predict(X_test)\n",
        "\n",
        "# Evaluate the model\n",
        "mse = mean_squared_error(y_test, y_pred)\n",
        "r_squared = r2_score(y_test, y_pred)\n",
        "\n",
        "print(f'Mean Squared Error: {mse:.2f}')\n",
        "print(f'R-squared: {r_squared:.2f}')\n"
      ],
      "metadata": {
        "colab": {
          "base_uri": "https://localhost:8080/"
        },
        "id": "mgt0GG7kHtxI",
        "outputId": "cf397f16-d90f-4cb2-de55-8b5f4d30d7fa"
      },
      "execution_count": null,
      "outputs": [
        {
          "output_type": "stream",
          "name": "stdout",
          "text": [
            "Mean Squared Error: 390185504.96\n",
            "R-squared: 0.06\n"
          ]
        }
      ]
    },
    {
      "cell_type": "code",
      "source": [
        "import pandas as pd\n",
        "from sklearn.model_selection import train_test_split\n",
        "from sklearn.svm import SVR\n",
        "from sklearn.metrics import mean_squared_error, r2_score\n",
        "\n",
        "# Load the dataset\n",
        "#url = 'https://storage.googleapis.com/mbcc/datasets/us_chronic_disease_indicators.csv'\n",
        "#df = pd.read_csv(url)\n",
        "\n",
        "# Filter the dataset for the specific topic \"Cancer\"\n",
        "df_cancer = df[df['topic'] == 'Cancer']\n",
        "\n",
        "# Select relevant columns\n",
        "selected_columns = ['locationdesc', 'datavalue', 'stratification1']\n",
        "\n",
        "df_cancer = df_cancer[selected_columns].dropna()  # Drop rows with missing values\n",
        "\n",
        "# Check the number of unique values in the target variable\n",
        "unique_values_count = df_cancer['datavalue'].nunique()\n",
        "\n",
        "if unique_values_count < 2:\n",
        "    raise ValueError(\"Not enough distinct classes in the target variable. Choose a different target variable or address the imbalance.\")\n",
        "\n",
        "# Convert categorical variables to numerical\n",
        "df_cancer = pd.get_dummies(df_cancer, columns=['locationdesc', 'stratification1'])\n",
        "\n",
        "# Separate features (X) and target variable (y)\n",
        "X = df_cancer.drop('datavalue', axis=1)\n",
        "y = df_cancer['datavalue']\n",
        "\n",
        "# Split the data into training and testing sets\n",
        "X_train, X_test, y_train, y_test = train_test_split(X, y, test_size=0.2, random_state=42)\n",
        "\n",
        "# Build the Support Vector Regression model\n",
        "svm_model = SVR()\n",
        "\n",
        "# Train the model\n",
        "svm_model.fit(X_train, y_train)\n",
        "\n",
        "# Make predictions on the test set\n",
        "y_pred = svm_model.predict(X_test)\n",
        "\n",
        "# Evaluate the model\n",
        "mse = mean_squared_error(y_test, y_pred)\n",
        "r_squared = r2_score(y_test, y_pred)\n",
        "\n",
        "print(f'Mean Squared Error: {mse:.2f}')\n",
        "print(f'R-squared: {r_squared:.2f}')\n"
      ],
      "metadata": {
        "colab": {
          "base_uri": "https://localhost:8080/"
        },
        "id": "NNE_BAP_J59b",
        "outputId": "f2e0e3ad-0b8a-4cf8-931a-38aeaa1b1c0e"
      },
      "execution_count": null,
      "outputs": [
        {
          "output_type": "stream",
          "name": "stdout",
          "text": [
            "Mean Squared Error: 416849084.81\n",
            "R-squared: -0.00\n"
          ]
        }
      ]
    }
  ]
}