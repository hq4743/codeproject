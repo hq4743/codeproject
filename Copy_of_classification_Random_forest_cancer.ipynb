{
  "nbformat": 4,
  "nbformat_minor": 0,
  "metadata": {
    "colab": {
      "provenance": []
    },
    "kernelspec": {
      "name": "python3",
      "display_name": "Python 3"
    },
    "language_info": {
      "name": "python"
    }
  },
  "cells": [
    {
      "cell_type": "code",
      "source": [
        "import pandas as pd\n",
        "from sklearn.model_selection import train_test_split\n",
        "from sklearn.ensemble import RandomForestClassifier\n",
        "from sklearn.metrics import accuracy_score\n",
        "import pickle\n",
        "\n",
        "# Load the dataset\n",
        "url = 'https://storage.googleapis.com/mbcc/datasets/us_chronic_disease_indicators.csv'\n",
        "df = pd.read_csv(url)\n",
        "\n",
        "# Filter the dataset for the specific topic \"Cancer\"\n",
        "df_cancer = df[df['topic'] == 'Cancer']\n",
        "\n",
        "# Select relevant columns\n",
        "selected_columns = ['locationdesc', 'datavalue', 'topic']\n",
        "\n",
        "df_cancer = df_cancer[selected_columns].dropna()  # Drop rows with missing values\n",
        "\n",
        "# Convert categorical variables to numerical\n",
        "df_cancer = pd.get_dummies(df_cancer, columns=['locationdesc', 'datavalue'])\n",
        "\n",
        "# Separate features (X) and target variable (y)\n",
        "X = df_cancer.drop('topic', axis=1)\n",
        "y = df_cancer['topic']\n",
        "\n",
        "# Split the data into training and testing sets\n",
        "X_train, X_test, y_train, y_test = train_test_split(X, y, test_size=0.2, random_state=42)\n",
        "\n",
        "# Build the random forest model\n",
        "rf_model = RandomForestClassifier(n_estimators=100, random_state=42)\n",
        "\n",
        "# Train the model\n",
        "# Train the model\n",
        "rf_model.fit(X_train, y_train)\n",
        "\n",
        "# Make predictions on the test set\n",
        "y_pred = rf_model.predict(X_test)\n",
        "\n",
        "# Evaluate the model\n",
        "accuracy = accuracy_score(y_test, y_pred)\n",
        "print(f'Accuracy: {accuracy:.2f}')\n",
        "\n"
      ],
      "metadata": {
        "colab": {
          "base_uri": "https://localhost:8080/"
        },
        "id": "XO2v7bIuL83C",
        "outputId": "a01b939d-fe05-4af7-8716-849538d99864"
      },
      "execution_count": 2,
      "outputs": [
        {
          "output_type": "stream",
          "name": "stdout",
          "text": [
            "Accuracy: 1.00\n"
          ]
        }
      ]
    },
    {
      "cell_type": "code",
      "source": [
        "import pandas as pd\n",
        "from sklearn.model_selection import train_test_split, GridSearchCV\n",
        "from sklearn.ensemble import RandomForestClassifier\n",
        "from sklearn.metrics import accuracy_score\n",
        "\n",
        "# Load the dataset\n",
        "#url = 'https://storage.googleapis.com/mbcc/datasets/us_chronic_disease_indicators.csv'\n",
        "#df = pd.read_csv(url)\n",
        "\n",
        "# Filter the dataset for the specific topic \"Cancer\"\n",
        "# df_cancer = df[df['topic'] == 'Cancer']\n",
        "\n",
        "# Select relevant columns\n",
        "# selected_columns = ['locationdesc', 'datavalue', 'topic']\n",
        "\n",
        "# df_cancer = df_cancer[selected_columns].dropna()  # Drop rows with missing values\n",
        "\n",
        "# Convert categorical variables to numerical\n",
        "# df_cancer = pd.get_dummies(df_cancer, columns=['locationdesc', 'datavalue'])\n",
        "\n",
        "# Separate features (X) and target variable (y)\n",
        "# X = df_cancer.drop('topic', axis=1)\n",
        "# y = df_cancer['topic']\n",
        "\n",
        "# Split the data into training and testing sets\n",
        "# X_train, X_test, y_train, y_test = train_test_split(X, y, test_size=0.2, random_state=42)\n",
        "\n",
        "# Define the parameter grid to search over\n",
        "param_grid = {\n",
        "    'n_estimators': [50, 100, 150],\n",
        "    'max_depth': [None, 5, 10, 15]\n",
        "}\n",
        "\n",
        "# Initialize the RandomForestClassifier\n",
        "# rf_model = RandomForestClassifier(random_state=42)\n",
        "\n",
        "# Initialize GridSearchCV\n",
        "grid_search = GridSearchCV(rf_model, param_grid, cv=5, scoring='accuracy')\n",
        "\n",
        "# Fit the model to the data\n",
        "grid_search.fit(X_train, y_train)\n",
        "\n",
        "# Print the best hyperparameters and corresponding accuracy\n",
        "print(\"Best Hyperparameters:\", grid_search.best_params_)\n",
        "print(\"Best Cross-Validation Accuracy:\", grid_search.best_score_)\n",
        "\n",
        "# Evaluate the best model on the test set\n",
        "best_model = grid_search.best_estimator_\n",
        "\n",
        "# save the best model to disk\n",
        "filename = 'finalized_rf_model.sav'\n",
        "pickle.dump(best_model, open(filename, 'wb'))\n",
        "\n",
        "loaded_model = pickle.load(open(filename, 'rb'))\n",
        "test_accuracy = loaded_model.score(X_test, y_test)\n",
        "\n",
        "\n",
        "print(f'Test Set Accuracy: {test_accuracy:.2f}')\n"
      ],
      "metadata": {
        "id": "rCQ7yjkacRmU",
        "colab": {
          "base_uri": "https://localhost:8080/"
        },
        "outputId": "d8c64824-17de-4c04-cf73-e82ac4a74843"
      },
      "execution_count": 5,
      "outputs": [
        {
          "output_type": "stream",
          "name": "stdout",
          "text": [
            "Best Hyperparameters: {'max_depth': None, 'n_estimators': 50}\n",
            "Best Cross-Validation Accuracy: 1.0\n",
            "Test Set Accuracy: 1.00\n"
          ]
        }
      ]
    },
    {
      "cell_type": "markdown",
      "source": [
        "# New section"
      ],
      "metadata": {
        "id": "z_UtIUYLb9je"
      }
    },
    {
      "cell_type": "markdown",
      "source": [
        "Decision tree"
      ],
      "metadata": {
        "id": "LH7VIa_0O-zC"
      }
    },
    {
      "cell_type": "code",
      "source": [
        "import pandas as pd\n",
        "from sklearn.model_selection import train_test_split\n",
        "from sklearn.tree import DecisionTreeClassifier\n",
        "from sklearn.metrics import accuracy_score\n",
        "\n",
        "# Load the dataset\n",
        "#url = 'https://storage.googleapis.com/mbcc/datasets/us_chronic_disease_indicators.csv'\n",
        "df = pd.read_csv(url)\n",
        "\n",
        "# Filter the dataset for the specific topic \"Cancer\"\n",
        "df_cancer = df[df['topic'] == 'Cancer']\n",
        "\n",
        "# Select relevant columns\n",
        "selected_columns = ['locationdesc', 'datavalue', 'stratification1', 'datavaluetype']\n",
        "\n",
        "df_cancer = df_cancer[selected_columns].dropna()  # Drop rows with missing values\n",
        "\n",
        "# Convert categorical variables to numerical\n",
        "df_cancer = pd.get_dummies(df_cancer, columns=['locationdesc', 'stratification1'])\n",
        "\n",
        "# Separate features (X) and target variable (y)\n",
        "X = df_cancer.drop('datavaluetype', axis=1)\n",
        "y = df_cancer['datavaluetype']\n",
        "\n",
        "# Split the data into training and testing sets\n",
        "X_train, X_test, y_train, y_test = train_test_split(X, y, test_size=0.2, random_state=42)\n",
        "\n",
        "# Build the decision tree model\n",
        "dt_model = DecisionTreeClassifier(random_state=42)\n",
        "\n",
        "# Train the model\n",
        "dt_model.fit(X_train, y_train)\n",
        "\n",
        "# save the best model to disk\n",
        "filename = 'finalized_dt_model.sav'\n",
        "pickle.dump(dt_model, open(filename, 'wb'))\n",
        "\n",
        "loaded_model = pickle.load(open(filename, 'rb'))\n",
        "test_accuracy = loaded_model.score(X_test, y_test)\n",
        "\n",
        "\n",
        "print(f'Accuracy: {test_accuracy:.2f}')\n"
      ],
      "metadata": {
        "colab": {
          "base_uri": "https://localhost:8080/"
        },
        "id": "9kREgHNHPigr",
        "outputId": "b980dc2e-a438-4a74-f0f2-7119ddc068ec"
      },
      "execution_count": 7,
      "outputs": [
        {
          "output_type": "stream",
          "name": "stdout",
          "text": [
            "Accuracy: 0.69\n"
          ]
        }
      ]
    },
    {
      "cell_type": "code",
      "source": [
        "import pandas as pd\n",
        "url = 'https://storage.googleapis.com/mbcc/datasets/us_chronic_disease_indicators.csv'\n",
        "df = pd.read_csv(url)"
      ],
      "metadata": {
        "id": "p7-sRPUzUXVK"
      },
      "execution_count": null,
      "outputs": []
    },
    {
      "cell_type": "code",
      "source": [
        "pip install xgboost"
      ],
      "metadata": {
        "colab": {
          "base_uri": "https://localhost:8080/"
        },
        "id": "AXoBq4IKM11V",
        "outputId": "51c6d36b-612a-4cdd-dd49-2060d27f471c"
      },
      "execution_count": null,
      "outputs": [
        {
          "output_type": "stream",
          "name": "stdout",
          "text": [
            "Requirement already satisfied: xgboost in /usr/local/lib/python3.10/dist-packages (2.0.2)\n",
            "Requirement already satisfied: numpy in /usr/local/lib/python3.10/dist-packages (from xgboost) (1.23.5)\n",
            "Requirement already satisfied: scipy in /usr/local/lib/python3.10/dist-packages (from xgboost) (1.11.3)\n"
          ]
        }
      ]
    },
    {
      "cell_type": "markdown",
      "source": [
        "XG boost algorithm prediction"
      ],
      "metadata": {
        "id": "IJGL28h2PJzE"
      }
    },
    {
      "cell_type": "code",
      "source": [
        "import pandas as pd\n",
        "from sklearn.model_selection import train_test_split\n",
        "from xgboost import XGBClassifier\n",
        "from sklearn.metrics import accuracy_score\n",
        "from sklearn.preprocessing import LabelEncoder\n",
        "\n",
        "# Load the dataset\n",
        "#url = 'https://storage.googleapis.com/mbcc/datasets/us_chronic_disease_indicators.csv'\n",
        "#df = pd.read_csv(url)\n",
        "\n",
        "# Filter the dataset for the specific topic \"Cancer\"\n",
        "df_cancer = df[df['topic'] == 'Cancer']\n",
        "\n",
        "# Select relevant columns\n",
        "selected_columns = ['locationdesc', 'stratification1', 'topic']\n",
        "\n",
        "df_selected = df_cancer[selected_columns].dropna()  # Drop rows with missing values\n",
        "\n",
        "# Encode 'Topic' into numerical labels\n",
        "label_encoder = LabelEncoder()\n",
        "df_selected['topic'] = label_encoder.fit_transform(df_selected['topic'])\n",
        "\n",
        "# Convert categorical variables to numerical\n",
        "df_selected = pd.get_dummies(df_selected, columns=['locationdesc', 'stratification1'])\n",
        "\n",
        "# Separate features (X) and target variable (y)\n",
        "X = df_selected.drop('topic', axis=1)\n",
        "y = df_selected['topic']\n",
        "\n",
        "# Split the data into training and testing sets\n",
        "X_train, X_test, y_train, y_test = train_test_split(X, y, test_size=0.2, random_state=42)\n",
        "\n",
        "# Build the XGBoost model\n",
        "xgb_model = XGBClassifier(random_state=42)\n",
        "\n",
        "# Train the model\n",
        "xgb_model.fit(X_train, y_train)\n",
        "\n",
        "\n",
        "# save the best model to disk\n",
        "filename = 'finalized_xgb_model.sav'\n",
        "pickle.dump(xgb_model, open(filename, 'wb'))\n",
        "\n",
        "loaded_model = pickle.load(open(filename, 'rb'))\n",
        "test_accuracy = loaded_model.score(X_test, y_test)\n",
        "\n",
        "\n",
        "print(f'Accuracy: {accuracy:.2f}')\n"
      ],
      "metadata": {
        "colab": {
          "base_uri": "https://localhost:8080/"
        },
        "id": "QSvWfP6XOZFi",
        "outputId": "9d291f7e-927f-429f-8a40-36b95c342fd4"
      },
      "execution_count": 9,
      "outputs": [
        {
          "output_type": "stream",
          "name": "stdout",
          "text": [
            "Accuracy: 1.00\n"
          ]
        }
      ]
    },
    {
      "cell_type": "markdown",
      "source": [
        "Classification report of all the predictions and feature columns"
      ],
      "metadata": {
        "id": "d2qd7bkAS3sw"
      }
    },
    {
      "cell_type": "code",
      "source": [
        "import pandas as pd\n",
        "from sklearn.model_selection import train_test_split\n",
        "from sklearn.linear_model import LogisticRegression\n",
        "from sklearn.metrics import accuracy_score, classification_report\n",
        "\n",
        "# Load the dataset from the provided URL\n",
        "#url = 'https://storage.googleapis.com/mbcc/datasets/us_chronic_disease_indicators.csv'\n",
        "#df = pd.read_csv(url)\n",
        "\n",
        "# Assuming 'BinaryOutcome' is the binary target variable, and 'locationdesc' and 'stratification1' are features\n",
        "target_variable = 'topic'\n",
        "feature_columns = ['locationdesc', 'stratification1']\n",
        "\n",
        "# Select relevant columns\n",
        "X = df[feature_columns]\n",
        "y = df[target_variable]\n",
        "\n",
        "# Drop rows with missing values\n",
        "X = X.dropna()\n",
        "y = y[X.index]\n",
        "\n",
        "# Encode categorical variables if needed\n",
        "X_encoded = pd.get_dummies(X)\n",
        "\n",
        "# Split the data into training and testing sets\n",
        "X_train, X_test, y_train, y_test = train_test_split(X_encoded, y, test_size=0.2, random_state=42)\n",
        "\n",
        "# Initialize the Logistic Regression model\n",
        "logistic_model = LogisticRegression(random_state=42)\n",
        "\n",
        "# Fit the model to the training data\n",
        "logistic_model.fit(X_train, y_train)\n",
        "\n",
        "# save the best model to disk\n",
        "filename = 'finalized_logit_model.sav'\n",
        "pickle.dump(logistic_model, open(filename, 'wb'))\n",
        "\n",
        "loaded_model = pickle.load(open(filename, 'rb'))\n",
        "test_accuracy = loaded_model.score(X_test, y_test)\n",
        "\n",
        "\n",
        "# Make predictions on the test set\n",
        "y_pred = loaded_model.predict(X_test)\n",
        "\n",
        "\n",
        "print(f\"Accuracy: {test_accuracy}\")\n",
        "print(\"Classification Report:\\n\", classification_report(y_test, y_pred))\n",
        "\n"
      ],
      "metadata": {
        "colab": {
          "base_uri": "https://localhost:8080/"
        },
        "id": "vKdNZ6pHO4y2",
        "outputId": "7302f9be-6d5c-4eae-ea43-d9ef2b5ce337"
      },
      "execution_count": 10,
      "outputs": [
        {
          "output_type": "stream",
          "name": "stderr",
          "text": [
            "/usr/local/lib/python3.10/dist-packages/sklearn/linear_model/_logistic.py:458: ConvergenceWarning: lbfgs failed to converge (status=1):\n",
            "STOP: TOTAL NO. of ITERATIONS REACHED LIMIT.\n",
            "\n",
            "Increase the number of iterations (max_iter) or scale the data as shown in:\n",
            "    https://scikit-learn.org/stable/modules/preprocessing.html\n",
            "Please also refer to the documentation for alternative solver options:\n",
            "    https://scikit-learn.org/stable/modules/linear_model.html#logistic-regression\n",
            "  n_iter_i = _check_optimize_result(\n"
          ]
        },
        {
          "output_type": "stream",
          "name": "stdout",
          "text": [
            "Accuracy: 0.1834373213353551\n"
          ]
        },
        {
          "output_type": "stream",
          "name": "stderr",
          "text": [
            "/usr/local/lib/python3.10/dist-packages/sklearn/metrics/_classification.py:1344: UndefinedMetricWarning: Precision and F-score are ill-defined and being set to 0.0 in labels with no predicted samples. Use `zero_division` parameter to control this behavior.\n",
            "  _warn_prf(average, modifier, msg_start, len(result))\n",
            "/usr/local/lib/python3.10/dist-packages/sklearn/metrics/_classification.py:1344: UndefinedMetricWarning: Precision and F-score are ill-defined and being set to 0.0 in labels with no predicted samples. Use `zero_division` parameter to control this behavior.\n",
            "  _warn_prf(average, modifier, msg_start, len(result))\n"
          ]
        },
        {
          "output_type": "stream",
          "name": "stdout",
          "text": [
            "Classification Report:\n",
            "                                                  precision    recall  f1-score   support\n",
            "\n",
            "                                        Alcohol       0.00      0.00      0.00      8458\n",
            "                                      Arthritis       0.00      0.00      0.00     10978\n",
            "                                         Asthma       0.00      0.00      0.00      8026\n",
            "                                         Cancer       0.19      0.79      0.31     26117\n",
            "                         Cardiovascular Disease       0.15      0.21      0.18     22689\n",
            "                         Chronic Kidney Disease       0.00      0.00      0.00      3743\n",
            "          Chronic Obstructive Pulmonary Disease       0.15      0.06      0.08     18840\n",
            "                                       Diabetes       0.15      0.02      0.03     17217\n",
            "                                     Disability       0.00      0.00      0.00       631\n",
            "                                   Immunization       0.00      0.00      0.00      1791\n",
            "                                  Mental Health       0.00      0.00      0.00      2103\n",
            "Nutrition, Physical Activity, and Weight Status       0.21      0.21      0.21     12441\n",
            "                                   Older Adults       0.00      0.00      0.00      3783\n",
            "                                    Oral Health       0.00      0.00      0.00      3411\n",
            "                         Overarching Conditions       0.00      0.00      0.00     12244\n",
            "                            Reproductive Health       0.00      0.00      0.00      1089\n",
            "                                        Tobacco       0.00      0.00      0.00      7355\n",
            "\n",
            "                                       accuracy                           0.18    160916\n",
            "                                      macro avg       0.05      0.08      0.05    160916\n",
            "                                   weighted avg       0.10      0.18      0.10    160916\n",
            "\n"
          ]
        },
        {
          "output_type": "stream",
          "name": "stderr",
          "text": [
            "/usr/local/lib/python3.10/dist-packages/sklearn/metrics/_classification.py:1344: UndefinedMetricWarning: Precision and F-score are ill-defined and being set to 0.0 in labels with no predicted samples. Use `zero_division` parameter to control this behavior.\n",
            "  _warn_prf(average, modifier, msg_start, len(result))\n"
          ]
        }
      ]
    }
  ]
}